{
  "nbformat": 4,
  "nbformat_minor": 0,
  "metadata": {
    "colab": {
      "name": "Doubler.ipynb",
      "provenance": [],
      "collapsed_sections": [],
      "authorship_tag": "ABX9TyNDyF9Tqmvdb3wK/HwH8HLs",
      "include_colab_link": true
    },
    "kernelspec": {
      "name": "python3",
      "display_name": "Python 3"
    },
    "language_info": {
      "name": "python"
    }
  },
  "cells": [
    {
      "cell_type": "markdown",
      "metadata": {
        "id": "view-in-github",
        "colab_type": "text"
      },
      "source": [
        "<a href=\"https://colab.research.google.com/github/gulumit/pythonAssigment/blob/main/Doubler.ipynb\" target=\"_parent\"><img src=\"https://colab.research.google.com/assets/colab-badge.svg\" alt=\"Open In Colab\"/></a>"
      ]
    },
    {
      "cell_type": "markdown",
      "source": [
        "Given two integer values, return their sum. If the two values are the same, then return double their sum."
      ],
      "metadata": {
        "id": "YpbiVKPcAnhY"
      }
    },
    {
      "cell_type": "code",
      "source": [
        "def sum_double(x, y):\n",
        "    if x == y :\n",
        "        return (x + y) * 2\n",
        "    else:\n",
        "        return x + y"
      ],
      "metadata": {
        "id": "H_OJFdCnAooC"
      },
      "execution_count": 1,
      "outputs": []
    },
    {
      "cell_type": "code",
      "source": [
        "print(sum_double(1, 2))\n",
        "print(sum_double(5, 7))\n",
        "print(sum_double(5, 5))"
      ],
      "metadata": {
        "colab": {
          "base_uri": "https://localhost:8080/"
        },
        "id": "82443dewBvzq",
        "outputId": "16ec7ebb-f570-49d2-cf4a-1aca65e867f3"
      },
      "execution_count": 2,
      "outputs": [
        {
          "output_type": "stream",
          "name": "stdout",
          "text": [
            "3\n",
            "12\n",
            "20\n"
          ]
        }
      ]
    }
  ]
}