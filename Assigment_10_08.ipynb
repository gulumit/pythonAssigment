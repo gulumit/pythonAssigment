{
  "nbformat": 4,
  "nbformat_minor": 0,
  "metadata": {
    "colab": {
      "name": "Assigment-10/08.ipynb",
      "provenance": [],
      "collapsed_sections": [],
      "authorship_tag": "ABX9TyNf+OHvyVaIpQf9FUvGqnAi",
      "include_colab_link": true
    },
    "kernelspec": {
      "name": "python3",
      "display_name": "Python 3"
    },
    "language_info": {
      "name": "python"
    }
  },
  "cells": [
    {
      "cell_type": "markdown",
      "metadata": {
        "id": "view-in-github",
        "colab_type": "text"
      },
      "source": [
        "<a href=\"https://colab.research.google.com/github/gulumit/pythonAssigment/blob/main/Assigment_10_08.ipynb\" target=\"_parent\"><img src=\"https://colab.research.google.com/assets/colab-badge.svg\" alt=\"Open In Colab\"/></a>"
      ]
    },
    {
      "cell_type": "markdown",
      "source": [
        "Count the number of each letter in a sentence.\n",
        "The department you work for undertook a project construction that makes word / text analysis. You are asked to calculate the number of letters or any chars in the sentences entered under this project.\n",
        "Write a Python program that;\n",
        "takes a sentence from the user,\n",
        "counts the number of each letter of the sentence,\n",
        "collects the letters/chars as a key and the counted numbers as a value in a dictionary."
      ],
      "metadata": {
        "id": "QwYD6A7GuEiE"
      }
    },
    {
      "cell_type": "code",
      "source": [
        "letter = \"Ey edip Adana'da pide ye.\"\n",
        "\n",
        "all_freq = {}\n",
        "\n",
        "for i in letter:\n",
        "    if i in all_freq:\n",
        "        all_freq[i] += 1\n",
        "    else:\n",
        "        all_freq[i] = 1"
      ],
      "metadata": {
        "id": "py4krI2EuGZi"
      },
      "execution_count": 3,
      "outputs": []
    },
    {
      "cell_type": "code",
      "source": [
        "print (\"Count of all characters in letter is:\\n\", str(all_freq))"
      ],
      "metadata": {
        "colab": {
          "base_uri": "https://localhost:8080/"
        },
        "id": "2BIprvfju-T5",
        "outputId": "11297418-2d2e-4581-8b0e-c986e01c4734"
      },
      "execution_count": 4,
      "outputs": [
        {
          "output_type": "stream",
          "name": "stdout",
          "text": [
            "Count of all characters in letter is:\n",
            " {'e': 4, 'y': 2, ' ': 4, 'd': 4, 'i': 2, 'p': 2, 'A': 1, 'a': 3, 'n': 1, \"'\": 1}\n"
          ]
        }
      ]
    },
    {
      "cell_type": "code",
      "source": [
        "from collections import Counter"
      ],
      "metadata": {
        "id": "CvIduXe5vhVU"
      },
      "execution_count": 6,
      "outputs": []
    },
    {
      "cell_type": "code",
      "source": [
        "letter = \"Ey edip Adana'da pide ye.\"\n",
        "all_freq = Counter(letter)\n",
        "\n",
        "print(\"Count of all characters in letter is:\\n\", str(all_freq))"
      ],
      "metadata": {
        "colab": {
          "base_uri": "https://localhost:8080/"
        },
        "id": "dXvSOUgGvmFA",
        "outputId": "83abc628-1623-4af0-fc39-6dd52cfd938c"
      },
      "execution_count": 7,
      "outputs": [
        {
          "output_type": "stream",
          "name": "stdout",
          "text": [
            "Count of all characters in letter is:\n",
            " Counter({' ': 4, 'd': 4, 'e': 3, 'a': 3, 'y': 2, 'i': 2, 'p': 2, 'E': 1, 'A': 1, 'n': 1, \"'\": 1, '.': 1})\n"
          ]
        }
      ]
    }
  ]
}