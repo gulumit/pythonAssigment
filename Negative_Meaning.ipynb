{
  "nbformat": 4,
  "nbformat_minor": 0,
  "metadata": {
    "colab": {
      "name": "Negative Meaning.ipynb",
      "provenance": [],
      "collapsed_sections": [],
      "authorship_tag": "ABX9TyMFNtfbxISXf6OREcYw3CqV",
      "include_colab_link": true
    },
    "kernelspec": {
      "name": "python3",
      "display_name": "Python 3"
    },
    "language_info": {
      "name": "python"
    }
  },
  "cells": [
    {
      "cell_type": "markdown",
      "metadata": {
        "id": "view-in-github",
        "colab_type": "text"
      },
      "source": [
        "<a href=\"https://colab.research.google.com/github/gulumit/pythonAssigment/blob/main/Negative_Meaning.ipynb\" target=\"_parent\"><img src=\"https://colab.research.google.com/assets/colab-badge.svg\" alt=\"Open In Colab\"/></a>"
      ]
    },
    {
      "cell_type": "markdown",
      "source": [
        "Define a function to take a word and return negative meaning.\n",
        "Given a word, return a new word where \"not \" has been added to the front. However, if the word already begins with \"not\", return the string unchanged."
      ],
      "metadata": {
        "id": "rTs73Ioz3uRh"
      }
    },
    {
      "cell_type": "code",
      "source": [
        "def not_string(word):\n",
        "    \n",
        "    if word.startswith(\"not\"):\n",
        "        return(word)\n",
        "    else:\n",
        "        return \"not \" + word\n",
        "\n",
        "print(not_string('x'))\n",
        "print(not_string('not bad'))\n",
        "print(not_string('sugar'))"
      ],
      "metadata": {
        "colab": {
          "base_uri": "https://localhost:8080/"
        },
        "id": "gxG-tveL3wnw",
        "outputId": "ebe7fd65-4c4d-4b0b-e242-5dafc2fb9a69"
      },
      "execution_count": 1,
      "outputs": [
        {
          "output_type": "stream",
          "name": "stdout",
          "text": [
            "not x\n",
            "not bad\n",
            "not sugar\n"
          ]
        }
      ]
    }
  ]
}