{
  "nbformat": 4,
  "nbformat_minor": 0,
  "metadata": {
    "colab": {
      "name": "Missing Char.ipynb",
      "provenance": [],
      "authorship_tag": "ABX9TyMdNNb1DjIesOurVfMGr7ha",
      "include_colab_link": true
    },
    "kernelspec": {
      "name": "python3",
      "display_name": "Python 3"
    },
    "language_info": {
      "name": "python"
    }
  },
  "cells": [
    {
      "cell_type": "markdown",
      "metadata": {
        "id": "view-in-github",
        "colab_type": "text"
      },
      "source": [
        "<a href=\"https://colab.research.google.com/github/gulumit/pythonAssigment/blob/main/Missing_Char.ipynb\" target=\"_parent\"><img src=\"https://colab.research.google.com/assets/colab-badge.svg\" alt=\"Open In Colab\"/></a>"
      ]
    },
    {
      "cell_type": "markdown",
      "source": [
        "Given a non-empty string and an int n, return a new string where the character at index n has been removed. The value of n will be a valid index of a character in the original string (i.e. n will be in the range 0....len(str)-1 inclusive)."
      ],
      "metadata": {
        "id": "sJoBkTWm3PA5"
      }
    },
    {
      "cell_type": "code",
      "source": [
        "def missing_char(word, n):\n",
        "    return word.replace(word[n], \"\")\n",
        "    \n",
        "\n",
        "print(missing_char('kitchen', 1))\n",
        "print(missing_char('kitchen', 0))\n",
        "print(missing_char('kitchen', 4))"
      ],
      "metadata": {
        "colab": {
          "base_uri": "https://localhost:8080/"
        },
        "id": "MmxP4g533VHk",
        "outputId": "a8a3d788-7c92-4519-fab2-34d7a60c0746"
      },
      "execution_count": 1,
      "outputs": [
        {
          "output_type": "stream",
          "name": "stdout",
          "text": [
            "ktchen\n",
            "itchen\n",
            "kitcen\n"
          ]
        }
      ]
    }
  ]
}