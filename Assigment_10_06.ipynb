{
  "nbformat": 4,
  "nbformat_minor": 0,
  "metadata": {
    "colab": {
      "name": "Assigment-10/06.ipynb",
      "provenance": [],
      "collapsed_sections": [],
      "authorship_tag": "ABX9TyOA9wPtNXIu2JIB9pq9CHcd",
      "include_colab_link": true
    },
    "kernelspec": {
      "name": "python3",
      "display_name": "Python 3"
    },
    "language_info": {
      "name": "python"
    }
  },
  "cells": [
    {
      "cell_type": "markdown",
      "metadata": {
        "id": "view-in-github",
        "colab_type": "text"
      },
      "source": [
        "<a href=\"https://colab.research.google.com/github/gulumit/pythonAssigment/blob/main/Assigment_10_06.ipynb\" target=\"_parent\"><img src=\"https://colab.research.google.com/assets/colab-badge.svg\" alt=\"Open In Colab\"/></a>"
      ]
    },
    {
      "cell_type": "markdown",
      "metadata": {
        "id": "Eee_B0FuMcvB"
      },
      "source": [
        "Task : Print the prime numbers which are between 1 to entered limit number (n).\n",
        "\n",
        "You can use a nested for loop.\n",
        "Collect all these numbers into a list\n",
        "The desired output for n=100 :\n",
        "\n",
        "[2, 3, 5, 7, 11, 13, 17, 19, 23, 29, 31, 37, 41, 43, 47, 53, 59,\n",
        "61, 67, 71, 73, 79, 83, 89, 97]"
      ]
    },
    {
      "cell_type": "code",
      "metadata": {
        "id": "_IPEuF3uTH5j",
        "outputId": "4a1ad1b1-c74d-4d77-aed8-adbffc40ee24",
        "colab": {
          "base_uri": "https://localhost:8080/"
        }
      },
      "source": [
        "lower = int(input(\"Enter lower range:\"))\n",
        "upper = int(input(\"Enter upper range:\"))\n",
        "\n",
        "for num in range(lower,upper + 1):\n",
        "    if num > 1:\n",
        "        for i in range(2,num):\n",
        "          if(num %i)== 0:\n",
        "            break           \n",
        "        else:\n",
        "            print(num, end=' ')\n",
        "            "
      ],
      "execution_count": 17,
      "outputs": [
        {
          "output_type": "stream",
          "name": "stdout",
          "text": [
            "Enter lower range:1\n",
            "Enter upper range:100\n",
            "2 3 5 7 11 13 17 19 23 29 31 37 41 43 47 53 59 61 67 71 73 79 83 89 97 "
          ]
        }
      ]
    }
  ]
}