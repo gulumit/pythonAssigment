{
  "nbformat": 4,
  "nbformat_minor": 0,
  "metadata": {
    "colab": {
      "name": "Assigment-10/07.ipynb",
      "provenance": [],
      "collapsed_sections": [],
      "authorship_tag": "ABX9TyNhebztKai3uW5yQ9OoSN+/",
      "include_colab_link": true
    },
    "kernelspec": {
      "name": "python3",
      "display_name": "Python 3"
    },
    "language_info": {
      "name": "python"
    }
  },
  "cells": [
    {
      "cell_type": "markdown",
      "metadata": {
        "id": "view-in-github",
        "colab_type": "text"
      },
      "source": [
        "<a href=\"https://colab.research.google.com/github/gulumit/pythonAssigment/blob/main/Assigment_10_07.ipynb\" target=\"_parent\"><img src=\"https://colab.research.google.com/assets/colab-badge.svg\" alt=\"Open In Colab\"/></a>"
      ]
    },
    {
      "cell_type": "markdown",
      "source": [
        "Print numbers from 1 to 100 inclusively following these instructions:\n",
        "if a number is multiple of 3, print \"Fizz\" instead of this number,\n",
        "if a number is multiple of 5, print \"Buzz\" instead of this number,\n",
        "for numbers that are multiples of both 3 and 5, print \"FizzBuzz\",\n",
        "print the rest of the numbers unchanged.\n",
        "Output each value on a separate line."
      ],
      "metadata": {
        "id": "rnEQ97A1qekM"
      }
    },
    {
      "cell_type": "markdown",
      "source": [
        ""
      ],
      "metadata": {
        "id": "_zaNHxwyqcsr"
      }
    },
    {
      "cell_type": "code",
      "source": [
        "for fizzbuzz in range(1, 100):\n",
        "    if fizzbuzz % 15 == 0 :\n",
        "        print(\"Fizzbuzz\")\n",
        "        continue\n",
        "    elif fizzbuzz % 3 == 0 :\n",
        "        print(\"Fizz\")\n",
        "        continue\n",
        "    elif fizzbuzz % 5 == 0 :\n",
        "        print(\"Buzz\")\n",
        "        continue\n",
        "    \n",
        "    print(fizzbuzz, end=' ')"
      ],
      "metadata": {
        "colab": {
          "base_uri": "https://localhost:8080/"
        },
        "id": "C3q3PruirDc8",
        "outputId": "cc520177-11d6-4dc8-b717-6374bf516b47"
      },
      "execution_count": 7,
      "outputs": [
        {
          "output_type": "stream",
          "name": "stdout",
          "text": [
            "1 2 Fizz\n",
            "4 Buzz\n",
            "Fizz\n",
            "7 8 Fizz\n",
            "Buzz\n",
            "11 Fizz\n",
            "13 14 Fizzbuzz\n",
            "16 17 Fizz\n",
            "19 Buzz\n",
            "Fizz\n",
            "22 23 Fizz\n",
            "Buzz\n",
            "26 Fizz\n",
            "28 29 Fizzbuzz\n",
            "31 32 Fizz\n",
            "34 Buzz\n",
            "Fizz\n",
            "37 38 Fizz\n",
            "Buzz\n",
            "41 Fizz\n",
            "43 44 Fizzbuzz\n",
            "46 47 Fizz\n",
            "49 Buzz\n",
            "Fizz\n",
            "52 53 Fizz\n",
            "Buzz\n",
            "56 Fizz\n",
            "58 59 Fizzbuzz\n",
            "61 62 Fizz\n",
            "64 Buzz\n",
            "Fizz\n",
            "67 68 Fizz\n",
            "Buzz\n",
            "71 Fizz\n",
            "73 74 Fizzbuzz\n",
            "76 77 Fizz\n",
            "79 Buzz\n",
            "Fizz\n",
            "82 83 Fizz\n",
            "Buzz\n",
            "86 Fizz\n",
            "88 89 Fizzbuzz\n",
            "91 92 Fizz\n",
            "94 Buzz\n",
            "Fizz\n",
            "97 98 Fizz\n"
          ]
        }
      ]
    }
  ]
}