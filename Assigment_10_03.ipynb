{
  "nbformat": 4,
  "nbformat_minor": 0,
  "metadata": {
    "colab": {
      "name": "Assigment-10/03.ipynb",
      "provenance": [],
      "collapsed_sections": [],
      "authorship_tag": "ABX9TyNbXSOVBgEU0U+Bj2cGashD",
      "include_colab_link": true
    },
    "kernelspec": {
      "name": "python3",
      "display_name": "Python 3"
    },
    "language_info": {
      "name": "python"
    }
  },
  "cells": [
    {
      "cell_type": "markdown",
      "metadata": {
        "id": "view-in-github",
        "colab_type": "text"
      },
      "source": [
        "<a href=\"https://colab.research.google.com/github/gulumit/pythonAssigment/blob/main/Assigment_10_03.ipynb\" target=\"_parent\"><img src=\"https://colab.research.google.com/assets/colab-badge.svg\" alt=\"Open In Colab\"/></a>"
      ]
    },
    {
      "cell_type": "code",
      "metadata": {
        "id": "u8XPiIODC5Kf"
      },
      "source": [
        "Armstrong Numbers\n",
        "Find out if a given number is an \"Armstrong Number\".\n",
        "\n",
        "An n-digit number that is the sum of the nth powers of its digits is called an n-Armstrong number. Examples :\n",
        "371 = 33 + 73 + 13;\n",
        "9474 = 94 + 44 + 74 + 44;\n",
        "93084 = 95 + 35 + 05 + 85 + 45\n",
        "\n",
        "Write a Python program that;\n",
        "takes a positive integer number from the user,\n",
        "checks the entered number if it is Armstrong,\n",
        "consider the negative, float and any entries other than numeric values then display a warning message to the user.\n",
        "\n",
        "Examples\n",
        "Sample inputs\tOutputs\n",
        "407\t407 is an Armstrong number\n",
        "5\t5 is an Armstrong number\n",
        " -153\t It is an invalid entry. Don't use non-numeric, float, or negative values!\n",
        " 153.87 or 153,87\t It is an invalid entry. Don't use non-numeric, float, or negative values!\n",
        " one\t It is an invalid entry. Don't use non-numeric, float, or negative values!\n",
        " 121\t 121 is not an Armstrong number\n",
        "\n"
      ],
      "execution_count": null,
      "outputs": []
    },
    {
      "cell_type": "markdown",
      "metadata": {
        "id": "hFK9TiXGC5wJ"
      },
      "source": [
        ""
      ]
    },
    {
      "cell_type": "code",
      "metadata": {
        "colab": {
          "base_uri": "https://localhost:8080/"
        },
        "id": "FoL7GDgk4qTJ",
        "outputId": "428fc1fd-f993-4021-e39a-7bc4ed93c479"
      },
      "source": [
        "number = input(\"Enter your number:\")\n",
        "\n",
        "if number.isdigit() and int(number) > 0:\n",
        "    length = len(number)\n",
        "    sum = 0\n",
        "    for integer in number:\n",
        "        integer = int(integer)\n",
        "        sum += integer ** length\n",
        "    if int(number) == sum:\n",
        "        print(\"This is an armstrong number\")\n",
        "    else:\n",
        "        print(\"This is an armstrong number\")\n",
        "else:\n",
        "    print(\"Please enter a valid number\")\n",
        "\n"
      ],
      "execution_count": null,
      "outputs": [
        {
          "output_type": "stream",
          "name": "stdout",
          "text": [
            "Enter your number:-2\n",
            "Please enter a valid number\n"
          ]
        }
      ]
    },
    {
      "cell_type": "code",
      "metadata": {
        "id": "QJWowO8N8ZpE"
      },
      "source": [
        ""
      ],
      "execution_count": null,
      "outputs": []
    },
    {
      "cell_type": "markdown",
      "metadata": {
        "id": "RoP4EZp5Kykc"
      },
      "source": [
        "Armstrong Numbers\n"
      ]
    },
    {
      "cell_type": "code",
      "metadata": {
        "id": "ArJi5xRt6x01",
        "colab": {
          "base_uri": "https://localhost:8080/"
        },
        "outputId": "044f52ea-285d-48f3-8f9e-76d8f6481904"
      },
      "source": [
        "\"11.1\".isdigit()"
      ],
      "execution_count": null,
      "outputs": [
        {
          "output_type": "execute_result",
          "data": {
            "text/plain": [
              "False"
            ]
          },
          "metadata": {},
          "execution_count": 1
        }
      ]
    },
    {
      "cell_type": "code",
      "metadata": {
        "colab": {
          "base_uri": "https://localhost:8080/"
        },
        "id": "KdicTqsLPg31",
        "outputId": "c6424587-4dff-4e24-ea50-68009850e3ba"
      },
      "source": [
        "\"111\".isdigit()"
      ],
      "execution_count": null,
      "outputs": [
        {
          "output_type": "execute_result",
          "data": {
            "text/plain": [
              "True"
            ]
          },
          "metadata": {},
          "execution_count": 2
        }
      ]
    },
    {
      "cell_type": "code",
      "metadata": {
        "colab": {
          "base_uri": "https://localhost:8080/"
        },
        "id": "DbAvrjVGSSeJ",
        "outputId": "503e5ee9-a765-4b51-b678-c40df18f0b3e"
      },
      "source": [
        "while True :\n",
        "    \n",
        "    number = input(\"enter a positive integer number :\")\n",
        "    digits = len(number)\n",
        "    summ = 0\n",
        "    \n",
        "    if not number.isdigit() :\n",
        "        print(number, \" is invalid entry. Enter valid input.\")\n",
        "        \n",
        "    elif int(number) >= 0 :\n",
        "        for i in range(digits) :\n",
        "            \n",
        "            summ = summ + int(number[i]) ** digits\n",
        "        \n",
        "        if summ == int(number):\n",
        "            print(number, \" is an Armstrong Number\")\n",
        "            break\n",
        "            \n",
        "        else :\n",
        "            print(number, \"is not an Armstrong Number\")\n",
        "            break\n",
        "      "
      ],
      "execution_count": null,
      "outputs": [
        {
          "output_type": "stream",
          "name": "stdout",
          "text": [
            "enter a positive integer number :631054259885996916\n",
            "631054259885996916 is not an Armstrong Number\n"
          ]
        }
      ]
    }
  ]
}