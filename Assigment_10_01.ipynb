{
  "nbformat": 4,
  "nbformat_minor": 0,
  "metadata": {
    "colab": {
      "name": "Assigment-10/01.ipynb",
      "provenance": [],
      "collapsed_sections": [],
      "authorship_tag": "ABX9TyPJW+7Jgw8dE1UJPBFkFb/I",
      "include_colab_link": true
    },
    "kernelspec": {
      "name": "python3",
      "display_name": "Python 3"
    },
    "language_info": {
      "name": "python"
    }
  },
  "cells": [
    {
      "cell_type": "markdown",
      "metadata": {
        "id": "view-in-github",
        "colab_type": "text"
      },
      "source": [
        "<a href=\"https://colab.research.google.com/github/gulumit/pythonAssigment/blob/main/Assigment_10_01.ipynb\" target=\"_parent\"><img src=\"https://colab.research.google.com/assets/colab-badge.svg\" alt=\"Open In Colab\"/></a>"
      ]
    },
    {
      "cell_type": "code",
      "metadata": {
        "id": "g45eQJKniEeA"
      },
      "source": [
        "\n",
        "kullanıcı = input(\"kullanıcı adı : \")\n",
        "\n",
        "if kullanıcı.title() == \"Joseph\":\n",
        "    print(\"Hello Joseph, Şifre:W@12\")\n",
        "else:\n",
        "    print(\"Hello! Amina, Sea you later\")\n",
        "    "
      ],
      "execution_count": null,
      "outputs": []
    }
  ]
}