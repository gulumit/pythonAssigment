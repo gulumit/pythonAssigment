{
  "nbformat": 4,
  "nbformat_minor": 0,
  "metadata": {
    "colab": {
      "name": "Assigment-10/04.ipynb",
      "provenance": [],
      "collapsed_sections": [],
      "authorship_tag": "ABX9TyOOhFgB7QbA7e5vNaFcC4Ps",
      "include_colab_link": true
    },
    "kernelspec": {
      "name": "python3",
      "display_name": "Python 3"
    },
    "language_info": {
      "name": "python"
    }
  },
  "cells": [
    {
      "cell_type": "markdown",
      "metadata": {
        "id": "view-in-github",
        "colab_type": "text"
      },
      "source": [
        "<a href=\"https://colab.research.google.com/github/gulumit/pythonAssigment/blob/main/Assigment_10_04.ipynb\" target=\"_parent\"><img src=\"https://colab.research.google.com/assets/colab-badge.svg\" alt=\"Open In Colab\"/></a>"
      ]
    },
    {
      "cell_type": "markdown",
      "metadata": {
        "id": "mn1jgsFh7K0F"
      },
      "source": [
        " Write a program that takes a number from the user and prints the result to check if it is a prime number.\n",
        "\n",
        "input →  19 ⇉ output : 19 is a prime number\n",
        "input →  10 ⇉ output : 10 is not a prime number\n",
        "\n",
        "\n"
      ]
    },
    {
      "cell_type": "code",
      "metadata": {
        "id": "MCF37P7UBNlr",
        "colab": {
          "base_uri": "https://localhost:8080/"
        },
        "outputId": "63dab57f-9c0b-479d-8803-098aba1a7b41"
      },
      "source": [
        "n = int(input(\"Give a number :\"))\n",
        "\n",
        "for x in range(2, n) :\n",
        "    if n % x == 0 :\n",
        "       print(n, 'is not a prime number')\n",
        "       break\n",
        "else :\n",
        "    print(n, 'is a prime number')"
      ],
      "execution_count": null,
      "outputs": [
        {
          "output_type": "stream",
          "name": "stdout",
          "text": [
            "Give a number :151\n",
            "151 is a prime number\n"
          ]
        }
      ]
    },
    {
      "cell_type": "code",
      "metadata": {
        "colab": {
          "base_uri": "https://localhost:8080/"
        },
        "id": "gfrPktWUWthk",
        "outputId": "cf2e8a7d-7b26-43f0-e40a-8a191baf0e6d"
      },
      "source": [
        "n = int(input(\"Enter a positive number to check if it is a Prime Number\"))\n",
        "counter = 0\n",
        "\n",
        "for i in range(1, n+1) :\n",
        "    if n % i == 0 :\n",
        "        counter += 1\n",
        "        \n",
        "if (n == 0) or (n == 1) or (counter >= 3) :\n",
        "    print(n, \" is not a Prime Number\")\n",
        "    \n",
        "else :\n",
        "    print(n, \" is a Prime Number\")"
      ],
      "execution_count": null,
      "outputs": [
        {
          "output_type": "stream",
          "name": "stdout",
          "text": [
            "Enter a positive number to check if it is a Prime Number333667\n",
            "333667  is a Prime Number\n"
          ]
        }
      ]
    }
  ]
}