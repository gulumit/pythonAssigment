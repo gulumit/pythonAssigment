{
  "nbformat": 4,
  "nbformat_minor": 0,
  "metadata": {
    "colab": {
      "name": "Front-Back Char.ipynb",
      "provenance": [],
      "authorship_tag": "ABX9TyNWz+WFfelWn33ferxP6hRR",
      "include_colab_link": true
    },
    "kernelspec": {
      "name": "python3",
      "display_name": "Python 3"
    },
    "language_info": {
      "name": "python"
    }
  },
  "cells": [
    {
      "cell_type": "markdown",
      "metadata": {
        "id": "view-in-github",
        "colab_type": "text"
      },
      "source": [
        "<a href=\"https://colab.research.google.com/github/gulumit/pythonAssigment/blob/main/Front_Back_Char.ipynb\" target=\"_parent\"><img src=\"https://colab.research.google.com/assets/colab-badge.svg\" alt=\"Open In Colab\"/></a>"
      ]
    },
    {
      "cell_type": "markdown",
      "source": [
        "Given a string, return a new string where the first and last chars have been exchanged."
      ],
      "metadata": {
        "id": "V24DA-Fa2AQG"
      }
    },
    {
      "cell_type": "code",
      "source": [
        "def front_back(word):\n",
        "    back = word[::-1]\n",
        "    return back\n",
        "\n",
        "print(front_back('clarusway'))\n",
        "print(front_back('ab'))\n",
        "print(front_back('a'))"
      ],
      "metadata": {
        "colab": {
          "base_uri": "https://localhost:8080/"
        },
        "id": "oKngBVzf2DbJ",
        "outputId": "6a43c3d4-6817-4d41-f03d-c44eab03a34b"
      },
      "execution_count": 1,
      "outputs": [
        {
          "output_type": "stream",
          "name": "stdout",
          "text": [
            "yawsuralc\n",
            "ba\n",
            "a\n"
          ]
        }
      ]
    }
  ]
}