{
  "nbformat": 4,
  "nbformat_minor": 0,
  "metadata": {
    "colab": {
      "name": "Find Minimum ipynb",
      "provenance": [],
      "collapsed_sections": [],
      "authorship_tag": "ABX9TyPBab7yMJnP3ylnXVzAe0Xa",
      "include_colab_link": true
    },
    "kernelspec": {
      "name": "python3",
      "display_name": "Python 3"
    },
    "language_info": {
      "name": "python"
    }
  },
  "cells": [
    {
      "cell_type": "markdown",
      "metadata": {
        "id": "view-in-github",
        "colab_type": "text"
      },
      "source": [
        "<a href=\"https://colab.research.google.com/github/gulumit/pythonAssigment/blob/main/Find_Minimum_ipynb.ipynb\" target=\"_parent\"><img src=\"https://colab.research.google.com/assets/colab-badge.svg\" alt=\"Open In Colab\"/></a>"
      ]
    },
    {
      "cell_type": "markdown",
      "source": [
        "Define a function named my_min to find the min of the inputted numbers."
      ],
      "metadata": {
        "id": "d3bnK2rbJN19"
      }
    },
    {
      "cell_type": "code",
      "source": [
        "def my_min(a,b,c):\n",
        "    if a<b and c:\n",
        "        return a\n",
        "    elif b<a and c:\n",
        "        return b\n",
        "    else:\n",
        "        return c"
      ],
      "metadata": {
        "id": "NPUrA4gGJfck"
      },
      "execution_count": 1,
      "outputs": []
    },
    {
      "cell_type": "code",
      "source": [
        "print(my_min(5,6,7))"
      ],
      "metadata": {
        "colab": {
          "base_uri": "https://localhost:8080/"
        },
        "id": "N0jn5HwJLaKL",
        "outputId": "b29ec5f3-2e72-4fac-9991-2dccd1039f22"
      },
      "execution_count": 2,
      "outputs": [
        {
          "output_type": "stream",
          "name": "stdout",
          "text": [
            "5\n"
          ]
        }
      ]
    },
    {
      "cell_type": "code",
      "source": [
        "def my_min(*args):\n",
        "    result = args[0]\n",
        "    for num in args:\n",
        "        if num < result:\n",
        "            result = num\n",
        "    return result"
      ],
      "metadata": {
        "id": "0WJ_Nt40QV3J"
      },
      "execution_count": 15,
      "outputs": []
    },
    {
      "cell_type": "code",
      "source": [
        "print(my_min(5,6,7))\n",
        "print(my_min(3,8,-9,0,12,1.2))\n",
        "print(my_min(-100))"
      ],
      "metadata": {
        "colab": {
          "base_uri": "https://localhost:8080/"
        },
        "id": "42ydZ4CLQ0Xm",
        "outputId": "acdb1d30-4f46-4564-e41e-0959cba417e3"
      },
      "execution_count": 16,
      "outputs": [
        {
          "output_type": "stream",
          "name": "stdout",
          "text": [
            "5\n",
            "-9\n",
            "-100\n"
          ]
        }
      ]
    }
  ]
}